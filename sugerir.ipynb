{
 "cells": [
  {
   "cell_type": "code",
   "execution_count": null,
   "source": [
    "from sugerir import get_token, suggest_music, get_artists_on_playlist\r\n",
    "from time import sleep\r\n",
    "import pandas as pd"
   ],
   "outputs": [],
   "metadata": {}
  },
  {
   "cell_type": "code",
   "execution_count": null,
   "source": [
    "user = '3ade68b7gaf47cea3'\r\n",
    "playlist = '3957'\r\n",
    "session_id = '20564750338663963901426491397948'"
   ],
   "outputs": [],
   "metadata": {}
  },
  {
   "cell_type": "code",
   "execution_count": null,
   "source": [
    "seconds_to_sleep = 25*60\r\n",
    "\r\n",
    "suggestions = pd.read_csv('suggestions.csv', sep=';')\r\n",
    "\r\n",
    "def save_csv_without_first_row(df):\r\n",
    "    df = df.drop(0)\r\n",
    "    df.to_csv('suggestions.csv', sep=';', index=False)\r\n",
    "\r\n",
    "while len(suggestions) != 0:\r\n",
    "    suggestions = pd.read_csv('suggestions.csv', sep=';')\r\n",
    "\r\n",
    "    pointer_id = suggestions.iloc[0]['pointer_id']\r\n",
    "    artist = suggestions.iloc[0]['artist']\r\n",
    "    song = suggestions.iloc[0]['song']\r\n",
    "\r\n",
    "    print(artist)\r\n",
    "    print(song)\r\n",
    "\r\n",
    "    try:\r\n",
    "        token = get_token(session_id, user, playlist)\r\n",
    "\r\n",
    "        artists_on_playlist = get_artists_on_playlist(playlist,session_id, user)\r\n",
    "        \r\n",
    "        if artist not in artists_on_playlist:\r\n",
    "            response = suggest_music(pointer_id, session_id, token, user, playlist)\r\n",
    "        else:\r\n",
    "            save_csv_without_first_row(suggestions)\r\n",
    "            print('Artista já foi adicionado!')\r\n",
    "            continue\r\n",
    "\r\n",
    "        if 'error' in response:\r\n",
    "            if 'permitida nesta playlist' in str(response):\r\n",
    "                save_csv_without_first_row(suggestions)\r\n",
    "                continue\r\n",
    "        else:\r\n",
    "            print('Sucesso!')\r\n",
    "            save_csv_without_first_row(suggestions)\r\n",
    "        \r\n",
    "        sleep(seconds_to_sleep)\r\n",
    "    except:\r\n",
    "        continue\r\n",
    "\r\n",
    "print(\"Acabaram as sugestões na lista :(\")"
   ],
   "outputs": [],
   "metadata": {}
  },
  {
   "cell_type": "code",
   "execution_count": null,
   "source": [
    "user = '3ade68b7gaf47cea3'\r\n",
    "playlist = '3952'\r\n",
    "session_id = '11711261541692080978451455625943'\r\n",
    "pointer_id = '3ade68b8ge8acf0b3'\r\n",
    "proxy = None\r\n",
    "\r\n",
    "token = get_token(session_id, user, playlist)\r\n",
    "\r\n",
    "response = suggest_music(pointer_id, session_id, token, user, playlist, proxy)\r\n",
    "\r\n",
    "print(\"Finalizado!\")"
   ],
   "outputs": [],
   "metadata": {}
  },
  {
   "cell_type": "markdown",
   "source": [
    "## Add aos 23:55"
   ],
   "metadata": {}
  },
  {
   "cell_type": "code",
   "execution_count": null,
   "source": [
    "user = '3ade68b7gaf47cea3'\r\n",
    "playlist = '3931'\r\n",
    "session_id = '38379406061642079150715590914170'\r\n",
    "seconds_to_sleep = 0\r\n",
    "\r\n",
    "with open('pointer_ids.txt', 'r') as f:\r\n",
    "    lines = f.readlines()\r\n",
    "\r\n",
    "with open('proxies.txt', 'r') as f:\r\n",
    "    lines_proxies = f.readlines()\r\n",
    "\r\n",
    "cont = 0\r\n",
    "\r\n",
    "while len(lines) != 0:\r\n",
    "    pointer_id = lines.pop(0)[:-1]\r\n",
    "    # proxy = lines_proxies.pop(cont)[:-1]\r\n",
    "    cont += 1\r\n",
    "\r\n",
    "    with open('pointer_ids.txt', 'w') as f:\r\n",
    "        f.writelines(lines)\r\n",
    "\r\n",
    "    print(pointer_id)\r\n",
    "\r\n",
    "    token = get_token(session_id, user, playlist)\r\n",
    "\r\n",
    "    suggest_music(pointer_id, session_id, token, user, playlist, 'http://51.81.82.175:80')\r\n",
    "\r\n",
    "    sleep(seconds_to_sleep)\r\n",
    "\r\n",
    "    with open('pointer_ids.txt', 'r') as f:\r\n",
    "        lines = f.readlines()\r\n",
    "    \r\n",
    "    with open('proxies.txt', 'r') as f:\r\n",
    "        lines_proxies = f.readlines()\r\n",
    "\r\n",
    "print(\"Acabaram as sugestões na lista :(\")"
   ],
   "outputs": [],
   "metadata": {}
  },
  {
   "cell_type": "code",
   "execution_count": null,
   "source": [],
   "outputs": [],
   "metadata": {}
  },
  {
   "cell_type": "code",
   "execution_count": null,
   "source": [
    "data = {\r\n",
    "    'action': 'addMusicToPlaylist', 'playlistID': 3931, 'pointerHID': '3ade68b7gdc855ea3', 'token': token, 'sessionID': '15129291111270450214194050127021',\r\n",
    "    'sessionUser': '3ade68b8g601da3b3'\r\n",
    "}\r\n",
    "\r\n",
    "proxy = {\r\n",
    "    \"https\": 'http://158.177.253.24:80'\r\n",
    "}"
   ],
   "outputs": [],
   "metadata": {}
  },
  {
   "cell_type": "code",
   "execution_count": null,
   "source": [
    "r = requests.post(\"https://app2.vagalume.com.br/ajax/playlisteiros.php\", data=data, proxies=proxy)"
   ],
   "outputs": [],
   "metadata": {}
  },
  {
   "cell_type": "code",
   "execution_count": null,
   "source": [
    "print(r.status_code, r.reason)\r\n",
    "print(r.text[:300] + '...')"
   ],
   "outputs": [],
   "metadata": {}
  },
  {
   "cell_type": "code",
   "execution_count": null,
   "source": [
    "r.text[:300]"
   ],
   "outputs": [],
   "metadata": {}
  },
  {
   "cell_type": "code",
   "execution_count": null,
   "source": [],
   "outputs": [],
   "metadata": {}
  }
 ],
 "metadata": {
  "orig_nbformat": 4,
  "language_info": {
   "name": "python",
   "version": "3.9.7",
   "mimetype": "text/x-python",
   "codemirror_mode": {
    "name": "ipython",
    "version": 3
   },
   "pygments_lexer": "ipython3",
   "nbconvert_exporter": "python",
   "file_extension": ".py"
  },
  "kernelspec": {
   "name": "python3",
   "display_name": "Python 3.9.7 64-bit (windows store)"
  },
  "interpreter": {
   "hash": "c6ae52a558079ccf35091af8aff2d29c8882b6db8c6625a3c7361b2d8ba3601d"
  }
 },
 "nbformat": 4,
 "nbformat_minor": 2
}