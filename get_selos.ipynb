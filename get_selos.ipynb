{
 "cells": [
  {
   "cell_type": "code",
   "execution_count": 1,
   "source": [
    "import requests\r\n",
    "import pandas as pd\r\n",
    "\r\n",
    "def get_badges(username, offset=0):\r\n",
    "    url = f\"https://app2.vagalume.com.br/ajax/playlisteiros_score.php?action=userBadge&login={username}&offset={offset}\"\r\n",
    "    with requests.Session() as s:\r\n",
    "        r = s.get(url, headers={'Connection': 'close'})\r\n",
    "        badges = r.json()\r\n",
    "\r\n",
    "    return badges"
   ],
   "outputs": [],
   "metadata": {}
  },
  {
   "cell_type": "markdown",
   "source": [
    "## Dados do usuário\r\n",
    "\r\n",
    "Preencher com o seu usuário e a quantidade de selos que possui atualmente."
   ],
   "metadata": {}
  },
  {
   "cell_type": "code",
   "execution_count": 19,
   "source": [
    "user = 'littledany'\r\n",
    "quantidade_selos = 12819\r\n",
    "paginas = int(quantidade_selos/300) + 1"
   ],
   "outputs": [],
   "metadata": {}
  },
  {
   "cell_type": "markdown",
   "source": [
    "## Busca por selos\r\n",
    "\r\n",
    "Ao executar a célula abaixo o código irá procurar pelos selos que você possui no servidor do vaga. Essa parte leva em torno de 2 minutos pra executar."
   ],
   "metadata": {}
  },
  {
   "cell_type": "code",
   "execution_count": 20,
   "source": [
    "offsets = [i*300 for i in range(paginas)]\r\n",
    "selos_por_artista = {}\r\n",
    "selos_repetidos = {}\r\n",
    "count = 0\r\n",
    "for offset in offsets:\r\n",
    "    badges = get_badges(user, offset)\r\n",
    "    for playlist in badges:\r\n",
    "        selos = playlist['vincs']\r\n",
    "        for selo in selos:\r\n",
    "            artist = selo['band_descr']\r\n",
    "            song = selo['pointer_name']\r\n",
    "            count += 1\r\n",
    "            if artist not in selos_por_artista.keys():\r\n",
    "                selos_por_artista[artist] = [song]\r\n",
    "            else:\r\n",
    "                if song not in selos_por_artista[artist]:\r\n",
    "                    selos_por_artista[artist].append(song)\r\n",
    "                    selos_por_artista[artist].sort()\r\n",
    "                else:\r\n",
    "                    if artist not in selos_repetidos:\r\n",
    "                        selos_repetidos[artist] = [song]\r\n",
    "                    else:\r\n",
    "                        selos_repetidos[artist].append(song)\r\n",
    "                        selos_repetidos[artist].sort()"
   ],
   "outputs": [],
   "metadata": {}
  },
  {
   "cell_type": "markdown",
   "source": [
    "## Verificar selos\r\n",
    "\r\n",
    "Depois de rodar as células de cima pelo menos uma vez, basta alterar o nome do artista que deseja verificar abaixo para uma nova checagem! :D"
   ],
   "metadata": {}
  },
  {
   "cell_type": "markdown",
   "source": [
    "### Selos únicos por artista"
   ],
   "metadata": {}
  },
  {
   "cell_type": "code",
   "execution_count": 21,
   "source": [
    "artista = 'Selena Gomez'\r\n",
    "\r\n",
    "if artista in selos_por_artista.keys():\r\n",
    "    print('Selos únicos com o(a) artista: ')\r\n",
    "    print(selos_por_artista[artista])\r\n",
    "else:\r\n",
    "    print('Você não tem selo com esse artista ou a grafia está errada!')"
   ],
   "outputs": [
    {
     "output_type": "stream",
     "name": "stdout",
     "text": [
      "Selos únicos com o(a) artista: \n",
      "['A Sweeter Place (Ft. Kid Cudi)', 'A Year Without Rain', 'B.E.A.T', 'Back To You', 'Bad Liar', 'Baila Conmigo (with Rauw Alejandro)', 'Bang Bang Bang', 'Birthday', 'Boyfriend', 'Buscando Amor', 'Camouflage', 'Come & Get It (Jump Smokers Extended Remix)', 'Crowded Room (feat. 6lack)', 'Cut You Off', 'Dance Again', 'De Una Vez', 'Do It', \"Dámelo To' (Feat. Myke Towers)\", 'Falling Down', 'Feel Me', 'Fetish (Feat. Gucci Mane)', 'Fly To Your Heart', 'Forget Forever', 'Fun', 'Good for You (feat. A$AP Rocky)', 'Hands To Myself', 'Hit The Lights', \"I Won't Apologize\", \"Kill 'Em With Kindness\", 'Kinda Crazy', 'Let Me Get Me', 'Like a Champion', 'Look At Her Now', 'Lose You To Love Me', 'Love Will Remember', 'Love You Like a Love Song', 'Love You Like a Love Song (Dj Escape & Tony Coluccio Club Remix)', 'Me & My Girls', 'Me & The Rhythm', 'Middle Of Nowhere', 'Music Feels Better', 'My Dilemma', 'Naturally', 'New Classic (ft Drew Seeley)', 'Nobody Does It Like You', 'One And The Same (feat. Demi Lovato)', 'Only You', 'Outta My Hands (Loco)', 'People You Know', 'Perfect', 'Rare', 'Red Light', 'Revival', 'Ring', 'Rise', 'Round & Round', 'Same Old Love', 'Save The Day', 'Selfish Love (With DJ Snake)', 'Slow Down', 'Sober', 'Souvenir', 'Stars Dance', \"Tell Me Something I Don't Know\", 'The Heart Wants What It Wants', 'The Way I Loved You', 'Un Año Sin Lluvia', 'Undercover', 'Vicio', 'Vulnerable', 'Who Says', 'Wolves (Feat. Marshmello)', 'Write Your Name']\n"
     ]
    }
   ],
   "metadata": {}
  },
  {
   "cell_type": "markdown",
   "source": [
    "### Selos repetidos"
   ],
   "metadata": {}
  },
  {
   "cell_type": "code",
   "execution_count": 16,
   "source": [
    "artista = 'Taylor Swift'\r\n",
    "\r\n",
    "if artista in selos_repetidos.keys():\r\n",
    "    print('Selos repetidos com o(a) artista: ')\r\n",
    "    print(selos_repetidos[artista])\r\n",
    "else:\r\n",
    "    print('Você não tem selos repetidos com esse artista ou a grafia está errada!')"
   ],
   "outputs": [
    {
     "output_type": "stream",
     "name": "stdout",
     "text": [
      "Selos repetidos com o(a) artista: \n",
      "['All Too Well']\n"
     ]
    }
   ],
   "metadata": {}
  },
  {
   "cell_type": "markdown",
   "source": [
    "## Mostrar todos os selos\r\n",
    "\r\n",
    "Gera um arquivo chamado ```selos.csv``` na pasta com todos os selos que você possui em ordem alfabética."
   ],
   "metadata": {}
  },
  {
   "cell_type": "code",
   "execution_count": 17,
   "source": [
    "artistas = list(selos_por_artista.keys())\r\n",
    "artistas.sort()\r\n",
    "artistas_list = []\r\n",
    "songs_list = []\r\n",
    "\r\n",
    "for artista in artistas:\r\n",
    "    for song in selos_por_artista[artista]:\r\n",
    "        artistas_list.append(artista)\r\n",
    "        songs_list.append(song)\r\n",
    "\r\n",
    "df = pd.DataFrame({'artista': artistas_list, 'musica': songs_list}, columns=['artista', 'musica'])\r\n",
    "df.to_csv('selos.csv', index=False, sep=';')"
   ],
   "outputs": [],
   "metadata": {}
  },
  {
   "cell_type": "code",
   "execution_count": null,
   "source": [],
   "outputs": [],
   "metadata": {}
  }
 ],
 "metadata": {
  "orig_nbformat": 4,
  "language_info": {
   "name": "python",
   "version": "3.9.7",
   "mimetype": "text/x-python",
   "codemirror_mode": {
    "name": "ipython",
    "version": 3
   },
   "pygments_lexer": "ipython3",
   "nbconvert_exporter": "python",
   "file_extension": ".py"
  },
  "kernelspec": {
   "name": "python3",
   "display_name": "Python 3.9.7 64-bit (windows store)"
  },
  "interpreter": {
   "hash": "c6ae52a558079ccf35091af8aff2d29c8882b6db8c6625a3c7361b2d8ba3601d"
  }
 },
 "nbformat": 4,
 "nbformat_minor": 2
}