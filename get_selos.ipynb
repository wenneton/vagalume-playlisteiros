{
 "cells": [
  {
   "cell_type": "code",
   "execution_count": 1,
   "metadata": {},
   "outputs": [],
   "source": [
    "import requests\n",
    "import pandas as pd\n",
    "\n",
    "def get_badges(username, offset=0):\n",
    "    url = f\"https://app2.vagalume.com.br/ajax/playlisteiros_score.php?action=userBadge&login={username}&offset={offset}\"\n",
    "    with requests.Session() as s:\n",
    "        r = s.get(url, headers={'Connection': 'close'})\n",
    "        badges = r.json()\n",
    "\n",
    "    return badges"
   ]
  },
  {
   "cell_type": "markdown",
   "metadata": {},
   "source": [
    "## Dados do usuário\n",
    "\n",
    "Preencher com o seu usuário e a quantidade de selos que possui atualmente."
   ]
  },
  {
   "cell_type": "code",
   "execution_count": 2,
   "metadata": {},
   "outputs": [],
   "source": [
    "user = 'wenneton'\n",
    "quantidade_selos = 1300\n",
    "paginas = int(quantidade_selos/300) + 1"
   ]
  },
  {
   "cell_type": "markdown",
   "metadata": {},
   "source": [
    "## Busca por selos\n",
    "\n",
    "Ao executar a célula abaixo o código irá procurar pelos selos que você possui no servidor do vaga. Essa parte leva em torno de 2 minutos pra executar."
   ]
  },
  {
   "cell_type": "code",
   "execution_count": 3,
   "metadata": {},
   "outputs": [],
   "source": [
    "offsets = [i*300 for i in range(paginas)]\n",
    "selos_por_artista = {}\n",
    "selos_repetidos = {}\n",
    "selos_total = {}\n",
    "count = 0\n",
    "for offset in offsets:\n",
    "    badges = get_badges(user, offset)\n",
    "    for playlist in badges:\n",
    "        selos = playlist['vincs']\n",
    "        for selo in selos:\n",
    "            artist = selo['band_descr']\n",
    "            song = selo['pointer_name']\n",
    "            count += 1\n",
    "            if artist not in selos_por_artista.keys():\n",
    "                selos_por_artista[artist] = [song]\n",
    "            else:\n",
    "                if song not in selos_por_artista[artist]:\n",
    "                    selos_por_artista[artist].append(song)\n",
    "                    selos_por_artista[artist].sort()\n",
    "                else:\n",
    "                    if artist not in selos_repetidos:\n",
    "                        selos_repetidos[artist] = [song]\n",
    "                    else:\n",
    "                        selos_repetidos[artist].append(song)\n",
    "                        selos_repetidos[artist].sort()\n",
    "            if artist not in selos_total.keys():\n",
    "                selos_total[artist] = [song]\n",
    "            else:\n",
    "                selos_total[artist].append(song)\n",
    "                selos_total[artist].sort()"
   ]
  },
  {
   "cell_type": "markdown",
   "metadata": {},
   "source": [
    "## Verificar selos\n",
    "\n",
    "Depois de rodar as células de cima pelo menos uma vez, basta alterar o nome do artista que deseja verificar abaixo para uma nova checagem! :D"
   ]
  },
  {
   "cell_type": "markdown",
   "metadata": {},
   "source": [
    "### Selos únicos por artista"
   ]
  },
  {
   "cell_type": "code",
   "execution_count": 22,
   "metadata": {},
   "outputs": [
    {
     "name": "stdout",
     "output_type": "stream",
     "text": [
      "Selos únicos com o(a) artista: \n",
      "['Break My Heart Again', \"Let's Fall in Love for the Night\", 'Partners in Crime', 'Shelter', \"What They'll Say About Us\"]\n",
      "Quantidade de selos:  5\n"
     ]
    }
   ],
   "source": [
    "artista = 'Finneas'\n",
    "\n",
    "if artista in selos_por_artista.keys():\n",
    "    print('Selos únicos com o(a) artista: ')\n",
    "    print(selos_por_artista[artista])\n",
    "    print('Quantidade de selos: ', len(selos_por_artista[artista]))\n",
    "else:\n",
    "    print('Você não tem selo com esse artista ou a grafia está errada!')"
   ]
  },
  {
   "cell_type": "markdown",
   "metadata": {},
   "source": [
    "### Selos repetidos"
   ]
  },
  {
   "cell_type": "code",
   "execution_count": 16,
   "metadata": {},
   "outputs": [
    {
     "name": "stdout",
     "output_type": "stream",
     "text": [
      "Selos repetidos com o(a) artista: \n",
      "['All Too Well']\n"
     ]
    }
   ],
   "source": [
    "artista = 'Taylor Swift'\n",
    "\n",
    "if artista in selos_repetidos.keys():\n",
    "    print('Selos repetidos com o(a) artista: ')\n",
    "    print(selos_repetidos[artista])\n",
    "else:\n",
    "    print('Você não tem selos repetidos com esse artista ou a grafia está errada!')"
   ]
  },
  {
   "cell_type": "markdown",
   "metadata": {},
   "source": [
    "## Mostrar todos os selos\n",
    "\n",
    "Gera um arquivo chamado ```selos.csv``` na pasta com todos os selos que você possui em ordem alfabética."
   ]
  },
  {
   "cell_type": "code",
   "execution_count": 42,
   "metadata": {},
   "outputs": [],
   "source": [
    "artistas = list(selos_total.keys())\n",
    "artistas.sort()\n",
    "artistas_list = []\n",
    "songs_list = []\n",
    "\n",
    "for artista in artistas:\n",
    "    for song in selos_total[artista]:\n",
    "        artistas_list.append(artista)\n",
    "        songs_list.append(song)\n",
    "\n",
    "df = pd.DataFrame({'artista': artistas_list, 'musica': songs_list}, columns=['artista', 'musica'])\n",
    "df.to_csv('selos.csv', index=False, sep=';')"
   ]
  },
  {
   "cell_type": "markdown",
   "metadata": {},
   "source": [
    "## Selos por artista"
   ]
  },
  {
   "cell_type": "code",
   "execution_count": 47,
   "metadata": {},
   "outputs": [],
   "source": [
    "artistas = list(selos_total.keys())\n",
    "count_badges = {}\n",
    "\n",
    "for artista in artistas:\n",
    "    count = len(selos_total[artista])\n",
    "    if count not in count_badges.keys():\n",
    "        count_badges[count] = [artista]\n",
    "    else:\n",
    "        count_badges[count].append(artista)"
   ]
  },
  {
   "cell_type": "code",
   "execution_count": 48,
   "metadata": {},
   "outputs": [],
   "source": [
    "counts = list(count_badges.keys())\n",
    "counts.sort(reverse=True)\n",
    "artistas_list = []\n",
    "counts_list = []\n",
    "\n",
    "for count in counts:\n",
    "    for artista in count_badges[count]:\n",
    "        artistas_list.append(artista)\n",
    "        counts_list.append(count)\n",
    "\n",
    "df = pd.DataFrame({'artista': artistas_list, 'quantidade': counts_list}, columns=['artista', 'quantidade'])\n",
    "df.to_csv('count_selos_por_artista.csv', index=False, sep=';')"
   ]
  },
  {
   "cell_type": "code",
   "execution_count": null,
   "metadata": {},
   "outputs": [],
   "source": []
  }
 ],
 "metadata": {
  "interpreter": {
   "hash": "c6ae52a558079ccf35091af8aff2d29c8882b6db8c6625a3c7361b2d8ba3601d"
  },
  "kernelspec": {
   "display_name": "Python 3.9.7 64-bit (windows store)",
   "name": "python3"
  },
  "language_info": {
   "codemirror_mode": {
    "name": "ipython",
    "version": 3
   },
   "file_extension": ".py",
   "mimetype": "text/x-python",
   "name": "python",
   "nbconvert_exporter": "python",
   "pygments_lexer": "ipython3",
   "version": "3.9.8"
  },
  "orig_nbformat": 4
 },
 "nbformat": 4,
 "nbformat_minor": 2
}
