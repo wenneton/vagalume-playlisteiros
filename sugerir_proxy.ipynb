{
 "cells": [
  {
   "cell_type": "code",
   "execution_count": 4,
   "source": [
    "from sugerir import get_token, suggest_music, get_artists_on_playlist\r\n",
    "from time import sleep\r\n",
    "from Proxy_List_Generator.proxy_get import Proxy_List\r\n",
    "from requests.exceptions import ProxyError, SSLError, ConnectionError\r\n",
    "import pandas as pd"
   ],
   "outputs": [],
   "metadata": {}
  },
  {
   "cell_type": "code",
   "execution_count": 5,
   "source": [
    "user = '3ade68b7gaf47cea3'\r\n",
    "playlist = '3957'\r\n",
    "session_id = '31466704612076375561127396674655'"
   ],
   "outputs": [],
   "metadata": {}
  },
  {
   "cell_type": "code",
   "execution_count": 6,
   "source": [
    "seconds_to_sleep = 0\r\n",
    "proxy = Proxy_List()\r\n",
    "\r\n",
    "suggestions = pd.read_csv('suggestions_proxy.csv', sep=';')\r\n",
    "\r\n",
    "def save_csv_without_first_row(df):\r\n",
    "    df = df.drop(0)\r\n",
    "    df.to_csv('suggestions_proxy.csv', sep=';', index=False)\r\n",
    "\r\n",
    "while len(suggestions) != 0:\r\n",
    "    suggestions = pd.read_csv('suggestions_proxy.csv', sep=';')\r\n",
    "\r\n",
    "    pointer_id = suggestions.iloc[0]['pointer_id']\r\n",
    "    artist = suggestions.iloc[0]['artist']\r\n",
    "    song = suggestions.iloc[0]['song']\r\n",
    "\r\n",
    "    print(artist)\r\n",
    "    print(song)\r\n",
    "\r\n",
    "    token = get_token(session_id, user, playlist)\r\n",
    "\r\n",
    "    artists_on_playlist = get_artists_on_playlist(playlist,session_id, user)\r\n",
    "    \r\n",
    "    if artist not in artists_on_playlist:\r\n",
    "        while(len(proxy_list) > 0):\r\n",
    "            proxy = proxy_list.pop(0)\r\n",
    "            proxy = 'http://' + proxy['ip_address'] + ':' + proxy['port']\r\n",
    "            print(proxy)\r\n",
    "            try:\r\n",
    "                response = suggest_music(pointer_id, session_id, token, user, playlist, proxy=proxy)\r\n",
    "            except:\r\n",
    "                pass\r\n",
    "            else:\r\n",
    "                break\r\n",
    "    else:\r\n",
    "        save_csv_without_first_row(suggestions)\r\n",
    "        print('Artista já foi adicionado!')\r\n",
    "        continue\r\n",
    "\r\n",
    "    if 'error' in response:\r\n",
    "        if 'permitida nesta playlist' in str(response):\r\n",
    "            save_csv_without_first_row(suggestions)\r\n",
    "            continue\r\n",
    "    else:\r\n",
    "        print('Sucesso!')\r\n",
    "        save_csv_without_first_row(suggestions)\r\n",
    "    \r\n",
    "    # sleep(seconds_to_sleep)\r\n",
    "\r\n",
    "print(\"Acabaram as sugestões na lista :(\")"
   ],
   "outputs": [
    {
     "output_type": "stream",
     "name": "stdout",
     "text": [
      "nan\n",
      "nan\n",
      "http://20.94.229.106:80\n",
      "http://36.67.57.45:30066\n",
      "{\"success\":true}\n",
      "Sucesso!\n",
      "nan\n",
      "nan\n",
      "http://142.44.148.56:8080\n",
      "http://176.62.188.158:56351\n",
      "{\"success\":true}\n",
      "Sucesso!\n",
      "nan\n",
      "nan\n",
      "http://158.69.53.132:9300\n",
      "http://209.45.111.194:45729\n",
      "http://158.58.133.106:41258\n",
      "{\"success\":true}\n",
      "Sucesso!\n",
      "nan\n",
      "nan\n",
      "http://187.130.139.197:8080\n",
      "{\"success\":true}\n",
      "Sucesso!\n",
      "nan\n",
      "nan\n",
      "http://95.79.36.55:44861\n",
      "http://34.145.126.174:80\n",
      "http://176.235.182.99:8080\n",
      "http://190.95.214.183:8080\n",
      "http://209.141.56.127:80\n",
      "http://202.180.54.212:8080\n",
      "http://64.124.38.126:8080\n",
      "{\"success\":true}\n",
      "Sucesso!\n",
      "nan\n",
      "nan\n",
      "http://185.208.172.196:8080\n",
      "{\"success\":true}\n",
      "Sucesso!\n",
      "nan\n",
      "nan\n",
      "http://51.195.149.143:8080\n",
      "http://196.214.185.83:80\n",
      "http://05.252.161.48:8080\n",
      "http://83.220.188.200:53281\n",
      "http://190.104.3.244:6969\n",
      "http://105.27.245.253:6969\n",
      "{\"success\":true}\n",
      "Sucesso!\n",
      "nan\n",
      "nan\n",
      "http://175.144.238.199:53281\n",
      "http://37.120.192.154:8080\n"
     ]
    }
   ],
   "metadata": {}
  },
  {
   "cell_type": "code",
   "execution_count": 4,
   "source": [
    "user = '3ade68b7gaf47cea3'\r\n",
    "playlist = '3955'\r\n",
    "session_id = '17527718741400772529185510119418'\r\n",
    "seconds_to_sleep = 0\r\n",
    "\r\n",
    "proxy_list = Proxy_List()['list_of_proxies']\r\n",
    "\r\n",
    "while len(lines) != 0:\r\n",
    "    pointer_id = lines.pop(0)[:-1]\r\n",
    "\r\n",
    "    print(pointer_id)\r\n",
    "\r\n",
    "    token = get_token(session_id, user, playlist)\r\n",
    "\r\n",
    "    while(len(proxy_list) > 0):\r\n",
    "        proxy = proxy_list.pop(0)\r\n",
    "        proxy = 'http://' + proxy['ip_address'] + ':' + proxy['port']\r\n",
    "        try:\r\n",
    "            response = suggest_music(pointer_id, session_id, token, user, playlist, proxy=proxy)\r\n",
    "        except ProxyError or SSLError or ConnectionError:\r\n",
    "            pass\r\n",
    "        else:\r\n",
    "            break\r\n",
    "\r\n",
    "    if 'error' in response:\r\n",
    "        if 'permitida nesta playlist' in str(response):\r\n",
    "            print('entrei aqui')\r\n",
    "            continue\r\n",
    "        else:\r\n",
    "            lines = [pointer_id + '\\n'] + lines\r\n",
    "    \r\n",
    "\r\n",
    "    sleep(seconds_to_sleep)\r\n",
    "\r\n",
    "print(\"Acabaram as sugestões na lista :(\")"
   ],
   "outputs": [
    {
     "output_type": "stream",
     "name": "stdout",
     "text": [
      "3ade68b8ge0aff0b3\n",
      "{'ip_address': '203.33.113.21', 'port': '80', 'code': 'AU', 'country': 'Australia', 'anonymity': 'anonymous', 'google': 'no', 'https': 'no', 'last_checked': '3 secs ago'}\n",
      "{'ip_address': '207.244.170.103', 'port': '8118', 'code': 'US', 'country': 'United States', 'anonymity': 'elite proxy', 'google': 'yes', 'https': 'no', 'last_checked': '3 secs ago'}\n",
      "{\"success\":true}\n",
      "3ade68b8ga4b101b3\n",
      "{'ip_address': '135.125.107.126', 'port': '80', 'code': 'FR', 'country': 'France', 'anonymity': 'elite proxy', 'google': '', 'https': 'no', 'last_checked': '1 sec ago'}\n",
      "{'ip_address': '5.252.161.48', 'port': '8080', 'code': 'GB', 'country': 'United Kingdom', 'anonymity': 'anonymous', 'google': 'no', 'https': 'no', 'last_checked': '1 sec ago'}\n",
      "{'ip_address': '203.33.113.62', 'port': '80', 'code': 'AU', 'country': 'Australia', 'anonymity': 'anonymous', 'google': '', 'https': 'no', 'last_checked': '1 sec ago'}\n",
      "{'ip_address': '213.6.66.66', 'port': '48687', 'code': 'PS', 'country': 'Palestinian Territory', 'anonymity': 'elite proxy', 'google': '', 'https': 'no', 'last_checked': '1 sec ago'}\n",
      "{'ip_address': '180.250.170.210', 'port': '59778', 'code': 'ID', 'country': 'Indonesia', 'anonymity': 'elite proxy', 'google': '', 'https': 'no', 'last_checked': '1 sec ago'}\n",
      "{\"success\":true}\n",
      "3ade68b8g753360b3\n",
      "{'ip_address': '107.178.9.186', 'port': '8080', 'code': 'US', 'country': 'United States', 'anonymity': 'transparent', 'google': 'no', 'https': 'no', 'last_checked': '25 secs ago'}\n",
      "{\"success\":true}\n",
      "3ade68b8g5dcfd0b3\n",
      "{'ip_address': '45.33.45.209', 'port': '8118', 'code': 'US', 'country': 'United States', 'anonymity': 'elite proxy', 'google': '', 'https': 'no', 'last_checked': '1 min ago'}\n",
      "{'ip_address': '96.9.74.91', 'port': '8080', 'code': 'KH', 'country': 'Cambodia', 'anonymity': 'elite proxy', 'google': 'no', 'https': 'yes', 'last_checked': '1 min ago'}\n",
      "{'ip_address': '62.99.178.46', 'port': '37699', 'code': 'AT', 'country': 'Austria', 'anonymity': 'elite proxy', 'google': 'yes', 'https': 'yes', 'last_checked': '1 min ago'}\n",
      "{\"error\":\"Erro: M\\u00fasica bloqueada pois foi removida na Playlist. Aguarde o desbloqueio!\"}\n",
      "3ade68b8g5dcfd0b3\n",
      "{'ip_address': '45.175.239.254', 'port': '999', 'code': 'MX', 'country': 'Mexico', 'anonymity': 'transparent', 'google': 'no', 'https': 'no', 'last_checked': '1 min ago'}\n",
      "{'ip_address': '188.133.192.164', 'port': '8081', 'code': 'RU', 'country': 'Russian Federation', 'anonymity': 'transparent', 'google': 'no', 'https': 'no', 'last_checked': '1 min ago'}\n",
      "{'ip_address': '131.72.69.98', 'port': '45005', 'code': 'BR', 'country': 'Brazil', 'anonymity': 'transparent', 'google': 'no', 'https': 'no', 'last_checked': '1 min ago'}\n",
      "{'ip_address': '177.152.99.26', 'port': '8083', 'code': 'BR', 'country': 'Brazil', 'anonymity': 'transparent', 'google': 'no', 'https': 'no', 'last_checked': '1 min ago'}\n",
      "{'ip_address': '110.232.66.209', 'port': '808', 'code': 'ID', 'country': 'Indonesia', 'anonymity': 'transparent', 'google': 'no', 'https': 'no', 'last_checked': '1 min ago'}\n",
      "{'ip_address': '102.165.192.208', 'port': '8080', 'code': 'ZA', 'country': 'South Africa', 'anonymity': 'transparent', 'google': 'no', 'https': 'no', 'last_checked': '1 min ago'}\n",
      "{\"error\":\"Erro: M\\u00fasica bloqueada pois foi removida na Playlist. Aguarde o desbloqueio!\"}\n"
     ]
    },
    {
     "output_type": "error",
     "ename": "KeyboardInterrupt",
     "evalue": "",
     "traceback": [
      "\u001b[1;31m---------------------------------------------------------------------------\u001b[0m",
      "\u001b[1;31mKeyboardInterrupt\u001b[0m                         Traceback (most recent call last)",
      "\u001b[1;32mC:\\Users\\MARCOS~1\\AppData\\Local\\Temp/ipykernel_21532/1670448444.py\u001b[0m in \u001b[0;36m<module>\u001b[1;34m\u001b[0m\n\u001b[0;32m     35\u001b[0m         \u001b[0mf\u001b[0m\u001b[1;33m.\u001b[0m\u001b[0mwritelines\u001b[0m\u001b[1;33m(\u001b[0m\u001b[0mlines\u001b[0m\u001b[1;33m)\u001b[0m\u001b[1;33m\u001b[0m\u001b[1;33m\u001b[0m\u001b[0m\n\u001b[0;32m     36\u001b[0m \u001b[1;33m\u001b[0m\u001b[0m\n\u001b[1;32m---> 37\u001b[1;33m     \u001b[0msleep\u001b[0m\u001b[1;33m(\u001b[0m\u001b[0mseconds_to_sleep\u001b[0m\u001b[1;33m)\u001b[0m\u001b[1;33m\u001b[0m\u001b[1;33m\u001b[0m\u001b[0m\n\u001b[0m\u001b[0;32m     38\u001b[0m \u001b[1;33m\u001b[0m\u001b[0m\n\u001b[0;32m     39\u001b[0m     \u001b[1;32mwith\u001b[0m \u001b[0mopen\u001b[0m\u001b[1;33m(\u001b[0m\u001b[1;34m'pointer_ids_proxy.txt'\u001b[0m\u001b[1;33m,\u001b[0m \u001b[1;34m'r'\u001b[0m\u001b[1;33m)\u001b[0m \u001b[1;32mas\u001b[0m \u001b[0mf\u001b[0m\u001b[1;33m:\u001b[0m\u001b[1;33m\u001b[0m\u001b[1;33m\u001b[0m\u001b[0m\n",
      "\u001b[1;31mKeyboardInterrupt\u001b[0m: "
     ]
    }
   ],
   "metadata": {}
  },
  {
   "cell_type": "code",
   "execution_count": 6,
   "source": [
    "string = '{\"error\":\"Esta m\\u00fasica n\\u00e3o \\u00e9 permitida nesta playlist\"}'"
   ],
   "outputs": [],
   "metadata": {}
  },
  {
   "cell_type": "code",
   "execution_count": 8,
   "source": [
    "'Esta m\\u00fasica n\\u00e3o \\u00e9 permitida nesta playlist' in string"
   ],
   "outputs": [
    {
     "output_type": "execute_result",
     "data": {
      "text/plain": [
       "True"
      ]
     },
     "metadata": {},
     "execution_count": 8
    }
   ],
   "metadata": {}
  },
  {
   "cell_type": "code",
   "execution_count": null,
   "source": [],
   "outputs": [],
   "metadata": {}
  }
 ],
 "metadata": {
  "orig_nbformat": 4,
  "language_info": {
   "name": "python",
   "version": "3.9.6",
   "mimetype": "text/x-python",
   "codemirror_mode": {
    "name": "ipython",
    "version": 3
   },
   "pygments_lexer": "ipython3",
   "nbconvert_exporter": "python",
   "file_extension": ".py"
  },
  "kernelspec": {
   "name": "python3",
   "display_name": "Python 3.9.6 64-bit"
  },
  "interpreter": {
   "hash": "b09cbd8fe058b3f9b133df126af89d901d026b3284e5647d79b3b8e70e9150c4"
  }
 },
 "nbformat": 4,
 "nbformat_minor": 2
}