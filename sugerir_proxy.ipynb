{
 "cells": [
  {
   "cell_type": "code",
   "execution_count": null,
   "source": [
    "from sugerir import get_token, suggest_music, get_artists_on_playlist\r\n",
    "from time import sleep\r\n",
    "from Proxy_List_Generator.proxy_get import Proxy_List\r\n",
    "from requests.exceptions import ProxyError, SSLError\r\n",
    "import pandas as pd"
   ],
   "outputs": [],
   "metadata": {}
  },
  {
   "cell_type": "code",
   "execution_count": null,
   "source": [
    "user = '3ade68b7gaf47cea3'\r\n",
    "playlist = '3952'\r\n",
    "session_id = '57543693245790409224432182794187'"
   ],
   "outputs": [],
   "metadata": {}
  },
  {
   "cell_type": "code",
   "execution_count": null,
   "source": [
    "seconds_to_sleep = 1\r\n",
    "\r\n",
    "suggestions = pd.read_csv('suggestions_proxy.csv', sep=';')\r\n",
    "\r\n",
    "def save_csv_without_first_row(df):\r\n",
    "    df = df.drop(0)\r\n",
    "    df.to_csv('suggestions_proxy.csv', sep=';', index=False)\r\n",
    "\r\n",
    "while len(suggestions) != 0:\r\n",
    "    suggestions = pd.read_csv('suggestions_proxy.csv', sep=';')\r\n",
    "\r\n",
    "    pointer_id = suggestions.iloc[0]['pointer_id']\r\n",
    "    artist = suggestions.iloc[0]['artist']\r\n",
    "    song = suggestions.iloc[0]['song']\r\n",
    "\r\n",
    "    proxy_list = Proxy_List()\r\n",
    "\r\n",
    "    print(artist)\r\n",
    "    print(song)\r\n",
    "\r\n",
    "    token = get_token(session_id, user, playlist)\r\n",
    "\r\n",
    "    artists_on_playlist = get_artists_on_playlist(playlist,session_id, user)\r\n",
    "    \r\n",
    "    if artist not in artists_on_playlist:\r\n",
    "        for proxy in proxy_list['list_of_proxies']:\r\n",
    "            proxy = 'http://' + proxy['ip_address'] + ':' + proxy['port']\r\n",
    "            print(proxy)\r\n",
    "            try:\r\n",
    "                response = suggest_music(pointer_id, session_id, token, user, playlist, proxy=proxy)\r\n",
    "            except:\r\n",
    "                pass\r\n",
    "            else:\r\n",
    "                break\r\n",
    "    else:\r\n",
    "        save_csv_without_first_row(suggestions)\r\n",
    "        print('Artista já foi adicionado!')\r\n",
    "        continue\r\n",
    "\r\n",
    "    if 'error' in response:\r\n",
    "        if 'permitida nesta playlist' in str(response):\r\n",
    "            save_csv_without_first_row(suggestions)\r\n",
    "            continue\r\n",
    "    else:\r\n",
    "        print('Sucesso!')\r\n",
    "        save_csv_without_first_row(suggestions)\r\n",
    "    \r\n",
    "    sleep(seconds_to_sleep)\r\n",
    "\r\n",
    "print(\"Acabaram as sugestões na lista :(\")"
   ],
   "outputs": [],
   "metadata": {}
  },
  {
   "cell_type": "markdown",
   "source": [
    "## Add aos 23:55"
   ],
   "metadata": {}
  },
  {
   "cell_type": "code",
   "execution_count": null,
   "source": [
    "seconds_to_sleep = 0\r\n",
    "\r\n",
    "suggestions = pd.read_csv('suggestions_proxy.csv', sep=';')\r\n",
    "\r\n",
    "def save_csv_without_first_row(df):\r\n",
    "    df = df.drop(0)\r\n",
    "    df.to_csv('suggestions_proxy.csv', sep=';', index=False)\r\n",
    "\r\n",
    "proxy_list = Proxy_List()['list_of_proxies']\r\n",
    "\r\n",
    "while len(suggestions) != 0:\r\n",
    "    suggestions = pd.read_csv('suggestions_proxy.csv', sep=';')\r\n",
    "\r\n",
    "    pointer_id = suggestions.iloc[0]['pointer_id']\r\n",
    "    artist = suggestions.iloc[0]['artist']\r\n",
    "    song = suggestions.iloc[0]['song']\r\n",
    "\r\n",
    "    print(artist)\r\n",
    "    print(song)\r\n",
    "\r\n",
    "    token = get_token(session_id, user, playlist)\r\n",
    "\r\n",
    "    artists_on_playlist = get_artists_on_playlist(playlist,session_id, user)\r\n",
    "    \r\n",
    "    if artist not in artists_on_playlist:\r\n",
    "        while len(proxy_list) > 0:\r\n",
    "            proxy = proxy_list.pop(0)\r\n",
    "            proxy = 'http://' + proxy['ip_address'] + ':' + proxy['port']\r\n",
    "            print(proxy)\r\n",
    "            try:\r\n",
    "                response = suggest_music(pointer_id, session_id, token, user, playlist, proxy=proxy)\r\n",
    "            except:\r\n",
    "                pass\r\n",
    "            else:\r\n",
    "                break\r\n",
    "    else:\r\n",
    "        save_csv_without_first_row(suggestions)\r\n",
    "        print('Artista já foi adicionado!')\r\n",
    "        continue\r\n",
    "\r\n",
    "    if 'error' in response:\r\n",
    "        if 'permitida nesta playlist' in str(response):\r\n",
    "            save_csv_without_first_row(suggestions)\r\n",
    "            continue\r\n",
    "    else:\r\n",
    "        print('Sucesso!')\r\n",
    "        save_csv_without_first_row(suggestions)\r\n",
    "    \r\n",
    "    sleep(seconds_to_sleep)\r\n",
    "\r\n",
    "print(\"Acabaram as sugestões na lista :(\")"
   ],
   "outputs": [],
   "metadata": {}
  },
  {
   "cell_type": "code",
   "execution_count": null,
   "source": [],
   "outputs": [],
   "metadata": {}
  }
 ],
 "metadata": {
  "orig_nbformat": 4,
  "language_info": {
   "name": "python",
   "version": "3.9.7",
   "mimetype": "text/x-python",
   "codemirror_mode": {
    "name": "ipython",
    "version": 3
   },
   "pygments_lexer": "ipython3",
   "nbconvert_exporter": "python",
   "file_extension": ".py"
  },
  "kernelspec": {
   "name": "python3",
   "display_name": "Python 3.9.7 64-bit (windows store)"
  },
  "interpreter": {
   "hash": "c6ae52a558079ccf35091af8aff2d29c8882b6db8c6625a3c7361b2d8ba3601d"
  }
 },
 "nbformat": 4,
 "nbformat_minor": 2
}