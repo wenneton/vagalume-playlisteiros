{
 "cells": [
  {
   "cell_type": "code",
   "execution_count": 1,
   "source": [
    "from sugerir import get_token, suggest_music\r\n",
    "from time import sleep\r\n",
    "from Proxy_List_Generator.proxy_get import Proxy_List\r\n",
    "from requests.exceptions import ProxyError, SSLError"
   ],
   "outputs": [],
   "metadata": {}
  },
  {
   "cell_type": "code",
   "execution_count": 2,
   "source": [
    "proxy = Proxy_List()"
   ],
   "outputs": [],
   "metadata": {}
  },
  {
   "cell_type": "code",
   "execution_count": 3,
   "source": [
    "def get_https_proxy(proxy_list):\r\n",
    "    for proxy in proxy_list:\r\n",
    "        if proxy['https'] == 'yes':\r\n",
    "            return proxy"
   ],
   "outputs": [],
   "metadata": {}
  },
  {
   "cell_type": "code",
   "execution_count": 4,
   "source": [
    "user = '3ade68b8g3739efa3'\r\n",
    "playlist = '3942'\r\n",
    "session_id = '20173997271386143855211325587019'\r\n",
    "seconds_to_sleep = 25*60\r\n",
    "\r\n",
    "with open('pointer_ids_proxy.txt', 'r') as f:\r\n",
    "    lines = f.readlines()\r\n",
    "\r\n",
    "while len(lines) != 0:\r\n",
    "    pointer_id = lines.pop(0)[:-1]\r\n",
    "    proxy_list = Proxy_List()\r\n",
    "\r\n",
    "    print(pointer_id)\r\n",
    "\r\n",
    "    token = get_token(session_id, user, playlist)\r\n",
    "\r\n",
    "    for proxy in proxy_list['list_of_proxies']:\r\n",
    "        print(proxy)\r\n",
    "        proxy = 'http://' + proxy['ip_address'] + ':' + proxy['port']\r\n",
    "        try:\r\n",
    "            response = suggest_music(pointer_id, session_id, token, user, playlist, proxy=proxy)\r\n",
    "        except ProxyError or SSLError:\r\n",
    "            pass\r\n",
    "        else:\r\n",
    "            break\r\n",
    "\r\n",
    "    if 'error' in response:\r\n",
    "        if 'permitida nesta playlist' in response:\r\n",
    "            print('entrei aqui')\r\n",
    "            continue\r\n",
    "        else:\r\n",
    "            lines = [pointer_id + '\\n'] + lines\r\n",
    "    \r\n",
    "    with open('pointer_ids_proxy.txt', 'w') as f:\r\n",
    "        f.writelines(lines)\r\n",
    "\r\n",
    "    sleep(seconds_to_sleep)\r\n",
    "\r\n",
    "    with open('pointer_ids_proxy.txt', 'r') as f:\r\n",
    "        lines = f.readlines()\r\n",
    "\r\n",
    "print(\"Acabaram as sugestões na lista :(\")"
   ],
   "outputs": [
    {
     "output_type": "stream",
     "name": "stdout",
     "text": [
      "3ade68b8gd96001b3\n",
      "{'ip_address': '170.82.118.241', 'port': '8083', 'code': 'BR', 'country': 'Brazil', 'anonymity': 'elite proxy', 'google': 'yes', 'https': 'no', 'last_checked': '18 secs ago'}\n",
      "{'ip_address': '184.155.36.194', 'port': '8080', 'code': 'US', 'country': 'United States', 'anonymity': 'elite proxy', 'google': '', 'https': 'no', 'last_checked': '1 min ago'}\n",
      "{'ip_address': '103.3.147.147', 'port': '80', 'code': 'AU', 'country': 'Australia', 'anonymity': 'anonymous', 'google': '', 'https': 'no', 'last_checked': '1 min ago'}\n",
      "{'ip_address': '183.91.0.121', 'port': '3128', 'code': 'VN', 'country': 'Vietnam', 'anonymity': 'elite proxy', 'google': '', 'https': 'no', 'last_checked': '1 min ago'}\n",
      "{'ip_address': '52.140.103.185', 'port': '80', 'code': 'IN', 'country': 'India', 'anonymity': 'elite proxy', 'google': 'no', 'https': 'no', 'last_checked': '1 min ago'}\n",
      "{'ip_address': '64.124.38.140', 'port': '8080', 'code': 'US', 'country': 'United States', 'anonymity': 'elite proxy', 'google': 'no', 'https': 'yes', 'last_checked': '1 min ago'}\n",
      "{\"error\":\"Esta m\\u00fasica n\\u00e3o \\u00e9 permitida nesta playlist\"}\n"
     ]
    }
   ],
   "metadata": {}
  },
  {
   "cell_type": "code",
   "execution_count": null,
   "source": [],
   "outputs": [],
   "metadata": {}
  }
 ],
 "metadata": {
  "orig_nbformat": 4,
  "language_info": {
   "name": "python",
   "version": "3.9.6",
   "mimetype": "text/x-python",
   "codemirror_mode": {
    "name": "ipython",
    "version": 3
   },
   "pygments_lexer": "ipython3",
   "nbconvert_exporter": "python",
   "file_extension": ".py"
  },
  "kernelspec": {
   "name": "python3",
   "display_name": "Python 3.9.6 64-bit"
  },
  "interpreter": {
   "hash": "b09cbd8fe058b3f9b133df126af89d901d026b3284e5647d79b3b8e70e9150c4"
  }
 },
 "nbformat": 4,
 "nbformat_minor": 2
}